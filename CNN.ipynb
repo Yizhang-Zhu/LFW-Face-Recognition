{
  "cells": [
    {
      "cell_type": "markdown",
      "metadata": {
        "id": "tb4O0exYXDLG"
      },
      "source": [
        "# Face Recognition \n",
        "EE4400 Project\n",
        "\n",
        "Dataset: LFW(http://vis-www.cs.umass.edu/lfw/)\n",
        "\n",
        "This is CNN method part."
      ]
    },
    {
      "cell_type": "code",
      "execution_count": 106,
      "metadata": {
        "id": "Fk5-73BbXDLN"
      },
      "outputs": [],
      "source": [
        "import numpy as np\n",
        "import pandas as pd\n",
        "import os\n",
        "from time import time\n",
        "import errno\n",
        "import shutil\n",
        "import matplotlib.pyplot as plt\n",
        "\n",
        "import tensorflow as tf\n",
        "from tensorflow import keras\n",
        "from keras.models import Sequential\n",
        "# from keras.layers import Conv2D, MaxPooling2D, Flatten, Dense, Dropout, LSTM, Embedding, Activation, LayerNormalization\n",
        "\n",
        "import sklearn\n",
        "from sklearn.datasets import fetch_lfw_people\n",
        "from sklearn.metrics import confusion_matrix\n",
        "from sklearn.metrics import classification_report, log_loss, accuracy_score\n",
        "from sklearn.model_selection import train_test_split"
      ]
    },
    {
      "cell_type": "code",
      "execution_count": 107,
      "metadata": {
        "id": "VFsQfqMRXDLO"
      },
      "outputs": [],
      "source": [
        "# use fetch_lfw_people method in sklearn to indicate the dataset\n",
        "# more than 10 photos of each person's face\n",
        "path = 'LFW'\n",
        "lfw_dataset = sklearn.datasets.fetch_lfw_people(data_home = path, min_faces_per_person = 100, download_if_missing = True)"
      ]
    },
    {
      "cell_type": "code",
      "execution_count": 109,
      "metadata": {
        "colab": {
          "base_uri": "https://localhost:8080/"
        },
        "id": "WkY4dplIXDLQ",
        "outputId": "0970e774-1047-426e-94bc-e7965224808d"
      },
      "outputs": [
        {
          "name": "stdout",
          "output_type": "stream",
          "text": [
            "Donald Rumsfeld\n"
          ]
        }
      ],
      "source": [
        "# data preprocess\n",
        "# create a mapping of names and indexes\n",
        "target_name_list = lfw_dataset.target_names\n",
        "name_index_list = []\n",
        "for i in range(len(target_name_list)):\n",
        "    name_index_list += [i]\n",
        "# print(target_name_list)\n",
        "# print(name_index_list)\n",
        "\n",
        "# create mapping\n",
        "mapping = dict(zip(target_name_list, name_index_list))\n",
        "reverse_mapping = dict(zip(name_index_list, target_name_list))\n",
        "# input index and get correspongding name\n",
        "def getName(value):\n",
        "    return reverse_mapping[value]\n",
        "# eg\n",
        "print(getName(1))"
      ]
    },
    {
      "cell_type": "code",
      "execution_count": 164,
      "metadata": {
        "colab": {
          "base_uri": "https://localhost:8080/"
        },
        "id": "GmlklonFXDLR",
        "outputId": "82bb5dd0-65c1-4adb-af8c-b62760e42d1e"
      },
      "outputs": [
        {
          "name": "stdout",
          "output_type": "stream",
          "text": [
            "(730, 62, 47, 1) (183, 62, 47, 1) (730, 5) (183, 5)\n"
          ]
        }
      ],
      "source": [
        "from keras.utils import to_categorical\n",
        "\n",
        "# data preprocess\n",
        "\n",
        "X0 = lfw_dataset.images\n",
        "y = lfw_dataset.target\n",
        "X = X0.reshape(-1, 62, 47, 1)\n",
        "# print(len(X0),len(y),len(X))\n",
        "\n",
        "dataset = []\n",
        "testset = []\n",
        "t = 0\n",
        "\n",
        "# 80% training set, 20% test set\n",
        "for Xi, yi in zip(X, y):\n",
        "    img = Xi/255.0\n",
        "    if t <= len(X)*0.8:\n",
        "        dataset.append([img, yi])\n",
        "    else:\n",
        "        testset.append([img, yi])\n",
        "    t += 1\n",
        "\n",
        "\n",
        "data, label_list0 = zip(*dataset)\n",
        "test, test_label_list0 = zip(*testset)\n",
        "\n",
        "label_list1 = to_categorical(label_list0)\n",
        "data = np.array(data)\n",
        "label_list = np.array(label_list1)\n",
        "\n",
        "test_label_list1 = to_categorical(test_label_list0)\n",
        "test = np.array(test)\n",
        "test_label_list = np.array(test_label_list1)\n",
        "trainx, testx, trainy, testy = train_test_split(data, label_list, test_size=0.2, random_state=44)\n",
        "\n",
        "print(trainx.shape, testx.shape, trainy.shape, testy.shape)\n"
      ]
    },
    {
      "cell_type": "code",
      "execution_count": 157,
      "metadata": {
        "id": "NDWwpV8mXDLS"
      },
      "outputs": [],
      "source": [
        "'''OWN CODE'''\n",
        "from keras.preprocessing.image import ImageDataGenerator\n",
        "\n",
        "# data argumentation: horizontal/vertical flp, zoom and shear\n",
        "# compare the results to test the performance of data argumentation\n",
        "dataset_arg = ImageDataGenerator(\n",
        "    horizontal_flip=True, \n",
        "    vertical_flip=False, # face img shouldnt be vertically flipped\n",
        "    zoom_range=0.05,\n",
        "    shear_range=0.05,\n",
        "    fill_mode=\"nearest\"\n",
        ")\n"
      ]
    },
    {
      "cell_type": "code",
      "execution_count": 158,
      "metadata": {
        "id": "k4Rx3kAbcbba"
      },
      "outputs": [],
      "source": [
        "'''OWN CODE'''\n",
        "# global set\n",
        "dropout_ratio_Conv = 0.3\n",
        "dropout_ratio_Dense = 0.3\n",
        "ep = 50     # epoch\n",
        "ba = 32     # batch size"
      ]
    },
    {
      "cell_type": "code",
      "execution_count": 139,
      "metadata": {
        "colab": {
          "base_uri": "https://localhost:8080/"
        },
        "id": "Gy5LoIVNbvgT",
        "outputId": "1921ba38-2019-4de1-a52a-79140c97b73f"
      },
      "outputs": [
        {
          "name": "stdout",
          "output_type": "stream",
          "text": [
            "Model: \"sequential_34\"\n",
            "_________________________________________________________________\n",
            " Layer (type)                Output Shape              Param #   \n",
            "=================================================================\n",
            " conv2d_114 (Conv2D)         (None, 60, 45, 32)        320       \n",
            "                                                                 \n",
            " batch_normalization_63 (Bat  (None, 60, 45, 32)       128       \n",
            " chNormalization)                                                \n",
            "                                                                 \n",
            " activation_63 (Activation)  (None, 60, 45, 32)        0         \n",
            "                                                                 \n",
            " dropout_178 (Dropout)       (None, 60, 45, 32)        0         \n",
            "                                                                 \n",
            " max_pooling2d_94 (MaxPoolin  (None, 30, 22, 32)       0         \n",
            " g2D)                                                            \n",
            "                                                                 \n",
            " conv2d_115 (Conv2D)         (None, 28, 20, 64)        18496     \n",
            "                                                                 \n",
            " batch_normalization_64 (Bat  (None, 28, 20, 64)       256       \n",
            " chNormalization)                                                \n",
            "                                                                 \n",
            " activation_64 (Activation)  (None, 28, 20, 64)        0         \n",
            "                                                                 \n",
            " dropout_179 (Dropout)       (None, 28, 20, 64)        0         \n",
            "                                                                 \n",
            " max_pooling2d_95 (MaxPoolin  (None, 14, 10, 64)       0         \n",
            " g2D)                                                            \n",
            "                                                                 \n",
            " flatten_33 (Flatten)        (None, 8960)              0         \n",
            "                                                                 \n",
            " dropout_180 (Dropout)       (None, 8960)              0         \n",
            "                                                                 \n",
            " dense_99 (Dense)            (None, 512)               4588032   \n",
            "                                                                 \n",
            " dropout_181 (Dropout)       (None, 512)               0         \n",
            "                                                                 \n",
            " dense_100 (Dense)           (None, 128)               65664     \n",
            "                                                                 \n",
            " dropout_182 (Dropout)       (None, 128)               0         \n",
            "                                                                 \n",
            " dense_101 (Dense)           (None, 5)                 645       \n",
            "                                                                 \n",
            "=================================================================\n",
            "Total params: 4,673,541\n",
            "Trainable params: 4,673,349\n",
            "Non-trainable params: 192\n",
            "_________________________________________________________________\n"
          ]
        }
      ],
      "source": [
        "'''OWN CODE'''\n",
        "# CNN model\n",
        "model_cnn = Sequential()\n",
        "model_cnn.add(keras.layers.Conv2D(32, (3, 3), input_shape=(62, 47, 1)))\n",
        "model_cnn.add(keras.layers.BatchNormalization())\n",
        "model_cnn.add(keras.layers.Activation('relu'))\n",
        "\n",
        "model_cnn.add(keras.layers.Dropout(rate=dropout_ratio_Conv))\n",
        "model_cnn.add(keras.layers.MaxPooling2D(2, 2))\n",
        "\n",
        "model_cnn.add(keras.layers.Conv2D(64, (3, 3)))\n",
        "model_cnn.add(keras.layers.BatchNormalization())\n",
        "model_cnn.add(keras.layers.Activation('relu'))\n",
        "\n",
        "model_cnn.add(keras.layers.Dropout(rate=dropout_ratio_Conv))\n",
        "model_cnn.add(keras.layers.MaxPooling2D(2, 2))\n",
        "\n",
        "\n",
        "model_cnn.add(keras.layers.Flatten())\n",
        "model_cnn.add(keras.layers.Dropout(rate=dropout_ratio_Dense))\n",
        "model_cnn.add(keras.layers.Dense(units=512, activation='relu'))\n",
        "model_cnn.add(keras.layers.Dropout(rate=dropout_ratio_Dense))\n",
        "model_cnn.add(keras.layers.Dense(units=128, activation='relu'))\n",
        "model_cnn.add(keras.layers.Dropout(rate=dropout_ratio_Dense))\n",
        "model_cnn.add(keras.layers.Dense(units=5, activation='softmax'))\n",
        "\n",
        "model_cnn.summary()\n",
        "model_cnn.compile(loss='categorical_crossentropy',\n",
        "              optimizer='adam', metrics=['accuracy'])"
      ]
    },
    {
      "cell_type": "code",
      "execution_count": 140,
      "metadata": {
        "colab": {
          "base_uri": "https://localhost:8080/"
        },
        "id": "134OquRoXDLU",
        "outputId": "e4f3e320-0115-4982-fbc3-8345518a093c"
      },
      "outputs": [
        {
          "name": "stdout",
          "output_type": "stream",
          "text": [
            "Epoch 1/50\n",
            "23/23 [==============================] - 7s 282ms/step - loss: 4.6116 - accuracy: 0.3562 - val_loss: 1.5826 - val_accuracy: 0.4426\n",
            "Epoch 2/50\n",
            "23/23 [==============================] - 6s 267ms/step - loss: 1.7673 - accuracy: 0.4137 - val_loss: 1.5613 - val_accuracy: 0.4426\n",
            "Epoch 3/50\n",
            "23/23 [==============================] - 6s 265ms/step - loss: 1.3619 - accuracy: 0.5151 - val_loss: 1.5677 - val_accuracy: 0.4372\n",
            "Epoch 4/50\n",
            "23/23 [==============================] - 6s 267ms/step - loss: 1.1999 - accuracy: 0.5575 - val_loss: 1.5395 - val_accuracy: 0.4426\n",
            "Epoch 5/50\n",
            "23/23 [==============================] - 8s 332ms/step - loss: 1.0524 - accuracy: 0.6082 - val_loss: 1.4773 - val_accuracy: 0.4699\n",
            "Epoch 6/50\n",
            "23/23 [==============================] - 6s 268ms/step - loss: 0.9999 - accuracy: 0.6534 - val_loss: 1.3838 - val_accuracy: 0.4426\n",
            "Epoch 7/50\n",
            "23/23 [==============================] - 6s 268ms/step - loss: 0.8739 - accuracy: 0.6863 - val_loss: 1.4208 - val_accuracy: 0.6230\n",
            "Epoch 8/50\n",
            "23/23 [==============================] - 6s 267ms/step - loss: 0.8037 - accuracy: 0.7110 - val_loss: 1.3414 - val_accuracy: 0.4426\n",
            "Epoch 9/50\n",
            "23/23 [==============================] - 6s 266ms/step - loss: 0.7300 - accuracy: 0.7329 - val_loss: 1.3942 - val_accuracy: 0.4426\n",
            "Epoch 10/50\n",
            "23/23 [==============================] - 6s 265ms/step - loss: 0.7283 - accuracy: 0.7575 - val_loss: 1.3087 - val_accuracy: 0.4809\n",
            "Epoch 11/50\n",
            "23/23 [==============================] - 6s 265ms/step - loss: 0.5604 - accuracy: 0.7918 - val_loss: 1.3748 - val_accuracy: 0.4426\n",
            "Epoch 12/50\n",
            "23/23 [==============================] - 6s 265ms/step - loss: 0.5861 - accuracy: 0.7753 - val_loss: 1.3390 - val_accuracy: 0.4426\n",
            "Epoch 13/50\n",
            "23/23 [==============================] - 6s 263ms/step - loss: 0.4927 - accuracy: 0.8219 - val_loss: 1.3861 - val_accuracy: 0.4426\n",
            "Epoch 14/50\n",
            "23/23 [==============================] - 6s 267ms/step - loss: 0.4331 - accuracy: 0.8384 - val_loss: 1.3650 - val_accuracy: 0.4590\n",
            "Epoch 15/50\n",
            "23/23 [==============================] - 6s 267ms/step - loss: 0.4179 - accuracy: 0.8603 - val_loss: 1.2620 - val_accuracy: 0.5519\n",
            "Epoch 16/50\n",
            "23/23 [==============================] - 6s 269ms/step - loss: 0.3846 - accuracy: 0.8575 - val_loss: 1.3405 - val_accuracy: 0.4918\n",
            "Epoch 17/50\n",
            "23/23 [==============================] - 6s 264ms/step - loss: 0.3183 - accuracy: 0.8904 - val_loss: 1.2118 - val_accuracy: 0.5410\n",
            "Epoch 18/50\n",
            "23/23 [==============================] - 6s 267ms/step - loss: 0.3147 - accuracy: 0.8822 - val_loss: 1.0185 - val_accuracy: 0.5574\n",
            "Epoch 19/50\n",
            "23/23 [==============================] - 6s 270ms/step - loss: 0.3297 - accuracy: 0.8795 - val_loss: 0.9786 - val_accuracy: 0.5683\n",
            "Epoch 20/50\n",
            "23/23 [==============================] - 6s 267ms/step - loss: 0.3455 - accuracy: 0.8767 - val_loss: 0.9955 - val_accuracy: 0.6339\n",
            "Epoch 21/50\n",
            "23/23 [==============================] - 6s 267ms/step - loss: 0.2725 - accuracy: 0.8973 - val_loss: 0.8904 - val_accuracy: 0.6448\n",
            "Epoch 22/50\n",
            "23/23 [==============================] - 6s 269ms/step - loss: 0.3073 - accuracy: 0.9000 - val_loss: 0.6382 - val_accuracy: 0.7322\n",
            "Epoch 23/50\n",
            "23/23 [==============================] - 6s 270ms/step - loss: 0.2748 - accuracy: 0.9055 - val_loss: 0.5258 - val_accuracy: 0.8743\n",
            "Epoch 24/50\n",
            "23/23 [==============================] - 8s 331ms/step - loss: 0.2038 - accuracy: 0.9178 - val_loss: 0.5061 - val_accuracy: 0.8142\n",
            "Epoch 25/50\n",
            "23/23 [==============================] - 6s 265ms/step - loss: 0.2461 - accuracy: 0.9164 - val_loss: 0.5652 - val_accuracy: 0.7978\n",
            "Epoch 26/50\n",
            "23/23 [==============================] - 6s 268ms/step - loss: 0.2857 - accuracy: 0.9014 - val_loss: 0.5072 - val_accuracy: 0.8306\n",
            "Epoch 27/50\n",
            "23/23 [==============================] - 6s 269ms/step - loss: 0.2447 - accuracy: 0.9027 - val_loss: 0.4949 - val_accuracy: 0.8142\n",
            "Epoch 28/50\n",
            "23/23 [==============================] - 6s 268ms/step - loss: 0.2087 - accuracy: 0.9329 - val_loss: 0.4638 - val_accuracy: 0.8579\n",
            "Epoch 29/50\n",
            "23/23 [==============================] - 6s 265ms/step - loss: 0.2369 - accuracy: 0.9014 - val_loss: 0.5261 - val_accuracy: 0.8251\n",
            "Epoch 30/50\n",
            "23/23 [==============================] - 6s 268ms/step - loss: 0.2241 - accuracy: 0.9151 - val_loss: 0.4527 - val_accuracy: 0.8470\n",
            "Epoch 31/50\n",
            "23/23 [==============================] - 6s 268ms/step - loss: 0.2081 - accuracy: 0.9274 - val_loss: 0.5313 - val_accuracy: 0.8525\n",
            "Epoch 32/50\n",
            "23/23 [==============================] - 6s 267ms/step - loss: 0.2068 - accuracy: 0.9260 - val_loss: 0.4161 - val_accuracy: 0.8579\n",
            "Epoch 33/50\n",
            "23/23 [==============================] - 6s 265ms/step - loss: 0.2022 - accuracy: 0.9260 - val_loss: 0.3226 - val_accuracy: 0.9016\n",
            "Epoch 34/50\n",
            "23/23 [==============================] - 6s 265ms/step - loss: 0.1982 - accuracy: 0.9288 - val_loss: 0.3952 - val_accuracy: 0.8743\n",
            "Epoch 35/50\n",
            "23/23 [==============================] - 6s 269ms/step - loss: 0.2018 - accuracy: 0.9384 - val_loss: 0.3853 - val_accuracy: 0.8798\n",
            "Epoch 36/50\n",
            "23/23 [==============================] - 6s 271ms/step - loss: 0.1588 - accuracy: 0.9562 - val_loss: 0.4845 - val_accuracy: 0.8087\n",
            "Epoch 37/50\n",
            "23/23 [==============================] - 6s 270ms/step - loss: 0.1699 - accuracy: 0.9370 - val_loss: 0.3535 - val_accuracy: 0.8689\n",
            "Epoch 38/50\n",
            "23/23 [==============================] - 6s 268ms/step - loss: 0.1467 - accuracy: 0.9493 - val_loss: 0.3579 - val_accuracy: 0.8852\n",
            "Epoch 39/50\n",
            "23/23 [==============================] - 6s 263ms/step - loss: 0.1872 - accuracy: 0.9329 - val_loss: 0.2970 - val_accuracy: 0.9016\n",
            "Epoch 40/50\n",
            "23/23 [==============================] - 6s 263ms/step - loss: 0.1742 - accuracy: 0.9411 - val_loss: 0.4808 - val_accuracy: 0.8197\n",
            "Epoch 41/50\n",
            "23/23 [==============================] - 6s 267ms/step - loss: 0.1147 - accuracy: 0.9548 - val_loss: 0.3037 - val_accuracy: 0.9180\n",
            "Epoch 42/50\n",
            "23/23 [==============================] - 6s 268ms/step - loss: 0.1127 - accuracy: 0.9589 - val_loss: 0.2952 - val_accuracy: 0.9126\n",
            "Epoch 43/50\n",
            "23/23 [==============================] - 7s 295ms/step - loss: 0.1154 - accuracy: 0.9589 - val_loss: 0.3088 - val_accuracy: 0.8962\n",
            "Epoch 44/50\n",
            "23/23 [==============================] - 7s 294ms/step - loss: 0.0974 - accuracy: 0.9644 - val_loss: 0.4548 - val_accuracy: 0.8415\n",
            "Epoch 45/50\n",
            "23/23 [==============================] - 6s 265ms/step - loss: 0.0957 - accuracy: 0.9699 - val_loss: 0.4118 - val_accuracy: 0.8689\n",
            "Epoch 46/50\n",
            "23/23 [==============================] - 6s 263ms/step - loss: 0.0808 - accuracy: 0.9685 - val_loss: 0.3330 - val_accuracy: 0.9016\n",
            "Epoch 47/50\n",
            "23/23 [==============================] - 6s 265ms/step - loss: 0.0792 - accuracy: 0.9767 - val_loss: 0.2916 - val_accuracy: 0.9235\n",
            "Epoch 48/50\n",
            "23/23 [==============================] - 6s 265ms/step - loss: 0.1141 - accuracy: 0.9630 - val_loss: 0.3216 - val_accuracy: 0.9180\n",
            "Epoch 49/50\n",
            "23/23 [==============================] - 6s 269ms/step - loss: 0.1053 - accuracy: 0.9589 - val_loss: 0.4812 - val_accuracy: 0.8306\n",
            "Epoch 50/50\n",
            "23/23 [==============================] - 6s 267ms/step - loss: 0.1005 - accuracy: 0.9699 - val_loss: 0.2841 - val_accuracy: 0.9399\n"
          ]
        }
      ],
      "source": [
        "history_cnn = model_cnn.fit(dataset_arg.flow(trainx, trainy, batch_size=ba),\n",
        "                validation_data=(testx, testy), epochs=ep, verbose=1)"
      ]
    },
    {
      "cell_type": "code",
      "execution_count": 141,
      "metadata": {
        "colab": {
          "base_uri": "https://localhost:8080/",
          "height": 618
        },
        "id": "-iroTjUFXDLU",
        "outputId": "fa77bf7f-5c70-4a84-81e5-0a2ce8ec597d"
      },
      "outputs": [
        {
          "data": {
            "image/png": "[encoded data removed]",
            "text/plain": [
              "<Figure size 432x288 with 1 Axes>"
            ]
          },
          "metadata": {
            "needs_background": "light"
          },
          "output_type": "display_data"
        },
        {
          "data": {
            "text/plain": [
              "<Figure size 432x288 with 0 Axes>"
            ]
          },
          "metadata": {},
          "output_type": "display_data"
        },
        {
          "data": {
            "image/png": "[encoded data removed]",
            "text/plain": [
              "<Figure size 432x288 with 1 Axes>"
            ]
          },
          "metadata": {
            "needs_background": "light"
          },
          "output_type": "display_data"
        },
        {
          "data": {
            "text/plain": [
              "<Figure size 432x288 with 0 Axes>"
            ]
          },
          "metadata": {},
          "output_type": "display_data"
        },
        {
          "name": "stdout",
          "output_type": "stream",
          "text": [
            "8/8 [==============================] - 0s 46ms/step\n",
            "CNN - Accuracy of test set: 0.9162995594713657\n"
          ]
        }
      ],
      "source": [
        "'''OWN CODE: start'''\n",
        "# CNN results\n",
        "\n",
        "# plot\n",
        "train_acc1 = history_cnn.history['accuracy']\n",
        "valid_acc1 = history_cnn.history['val_accuracy']\n",
        "train_loss1 = history_cnn.history['loss']\n",
        "valid_loss1 = history_cnn.history['val_loss']\n",
        "\n",
        "epoch_acc1 = range(len(train_acc1))\n",
        "plt.plot(epoch_acc1, train_acc1, 'orange', label='Accuracy of Training set')\n",
        "plt.plot(epoch_acc1, valid_acc1, 'blue', label='Accuracy of Validation set')\n",
        "plt.title('Training/validation accuracy')\n",
        "plt.legend()\n",
        "plt.figure()\n",
        "plt.show()\n",
        "\n",
        "epoch_loss1 = range(len(train_loss1))\n",
        "plt.plot(epoch_loss1, train_loss1, 'orange', label='Loss of Training set')\n",
        "plt.plot(epoch_loss1, valid_loss1, 'blue', label='Loss of Validation set')\n",
        "plt.title('Training/validation loss')\n",
        "plt.legend()\n",
        "plt.figure()\n",
        "plt.show()\n",
        "'''OWN CODE: end'''\n",
        "\n",
        "# test acc\n",
        "prediction1 = model_cnn.predict(test)\n",
        "pred_list1 = []\n",
        "for item in prediction1:\n",
        "    value = np.argmax(item)      \n",
        "    pred_list1 += [value]\n",
        "ans_list1 = test_label_list0\n",
        "accuracy = accuracy_score(ans_list1, pred_list1)\n",
        "print(\"CNN - Accuracy of test set:\", accuracy)"
      ]
    },
    {
      "cell_type": "code",
      "execution_count": 161,
      "metadata": {
        "colab": {
          "base_uri": "https://localhost:8080/"
        },
        "id": "CLXhhQ2tt2AQ",
        "outputId": "9a0ec72a-ac13-4bc8-a01d-656ebf0e3a6a"
      },
      "outputs": [
        {
          "name": "stdout",
          "output_type": "stream",
          "text": [
            "Model: \"sequential_43\"\n",
            "_________________________________________________________________\n",
            " Layer (type)                Output Shape              Param #   \n",
            "=================================================================\n",
            " conv2d_178 (Conv2D)         (None, 62, 47, 32)        320       \n",
            "                                                                 \n",
            " conv2d_179 (Conv2D)         (None, 62, 47, 32)        9248      \n",
            "                                                                 \n",
            " dropout_227 (Dropout)       (None, 62, 47, 32)        0         \n",
            "                                                                 \n",
            " max_pooling2d_128 (MaxPooli  (None, 31, 23, 32)       0         \n",
            " ng2D)                                                           \n",
            "                                                                 \n",
            " conv2d_180 (Conv2D)         (None, 31, 23, 64)        12352     \n",
            "                                                                 \n",
            " dropout_228 (Dropout)       (None, 31, 23, 64)        0         \n",
            "                                                                 \n",
            " max_pooling2d_129 (MaxPooli  (None, 15, 11, 64)       0         \n",
            " ng2D)                                                           \n",
            "                                                                 \n",
            " conv2d_181 (Conv2D)         (None, 15, 11, 128)       73856     \n",
            "                                                                 \n",
            " conv2d_182 (Conv2D)         (None, 15, 11, 128)       147584    \n",
            "                                                                 \n",
            " dropout_229 (Dropout)       (None, 15, 11, 128)       0         \n",
            "                                                                 \n",
            " max_pooling2d_130 (MaxPooli  (None, 7, 5, 128)        0         \n",
            " ng2D)                                                           \n",
            "                                                                 \n",
            " conv2d_183 (Conv2D)         (None, 7, 5, 256)         295168    \n",
            "                                                                 \n",
            " conv2d_184 (Conv2D)         (None, 7, 5, 256)         590080    \n",
            "                                                                 \n",
            " dropout_230 (Dropout)       (None, 7, 5, 256)         0         \n",
            "                                                                 \n",
            " max_pooling2d_131 (MaxPooli  (None, 3, 2, 256)        0         \n",
            " ng2D)                                                           \n",
            "                                                                 \n",
            " conv2d_185 (Conv2D)         (None, 3, 2, 256)         590080    \n",
            "                                                                 \n",
            " conv2d_186 (Conv2D)         (None, 3, 2, 256)         590080    \n",
            "                                                                 \n",
            " dropout_231 (Dropout)       (None, 3, 2, 256)         0         \n",
            "                                                                 \n",
            " max_pooling2d_132 (MaxPooli  (None, 1, 1, 256)        0         \n",
            " ng2D)                                                           \n",
            "                                                                 \n",
            " flatten_38 (Flatten)        (None, 256)               0         \n",
            "                                                                 \n",
            " dropout_232 (Dropout)       (None, 256)               0         \n",
            "                                                                 \n",
            " dense_114 (Dense)           (None, 512)               131584    \n",
            "                                                                 \n",
            " dropout_233 (Dropout)       (None, 512)               0         \n",
            "                                                                 \n",
            " dense_115 (Dense)           (None, 128)               65664     \n",
            "                                                                 \n",
            " dropout_234 (Dropout)       (None, 128)               0         \n",
            "                                                                 \n",
            " dense_116 (Dense)           (None, 5)                 645       \n",
            "                                                                 \n",
            "=================================================================\n",
            "Total params: 2,506,661\n",
            "Trainable params: 2,506,661\n",
            "Non-trainable params: 0\n",
            "_________________________________________________________________\n"
          ]
        }
      ],
      "source": [
        "'''OWN CODE'''\n",
        "# Try a different special model - VGG from Oxford CV Lab\n",
        "# Considering the computation power, choose VGG11 and reduce number of parameters\n",
        "model_vgg = Sequential()\n",
        "model_vgg.add(keras.layers.Conv2D(32,(3,3),strides=(1,1),input_shape=(62, 47, 1),padding='same',activation='relu'))\n",
        "model_vgg.add(keras.layers.Conv2D(32,(3,3),strides=(1,1),padding='same',activation='relu'))\n",
        "model_vgg.add(keras.layers.Dropout(rate=dropout_ratio_Conv))\n",
        "model_vgg.add(keras.layers.MaxPooling2D(pool_size=(2,2)))\n",
        "\n",
        "model_vgg.add(keras.layers.Conv2D(64,(3,2),strides=(1,1),padding='same',activation='relu'))\n",
        "model_vgg.add(keras.layers.Dropout(rate=dropout_ratio_Conv))\n",
        "model_vgg.add(keras.layers.MaxPooling2D(pool_size=(2,2)))\n",
        "\n",
        "model_vgg.add(keras.layers.Conv2D(128,(3,3),strides=(1,1),padding='same',activation='relu'))\n",
        "model_vgg.add(keras.layers.Conv2D(128,(3,3),strides=(1,1),padding='same',activation='relu'))\n",
        "model_vgg.add(keras.layers.Dropout(rate=dropout_ratio_Conv))\n",
        "model_vgg.add(keras.layers.MaxPooling2D(pool_size=(2,2)))\n",
        "\n",
        "model_vgg.add(keras.layers.Conv2D(256,(3,3),strides=(1,1),padding='same',activation='relu'))\n",
        "model_vgg.add(keras.layers.Conv2D(256,(3,3),strides=(1,1),padding='same',activation='relu'))\n",
        "model_vgg.add(keras.layers.Dropout(rate=dropout_ratio_Conv))\n",
        "model_vgg.add(keras.layers.MaxPooling2D(pool_size=(2,2)))\n",
        "\n",
        "model_vgg.add(keras.layers.Conv2D(256,(3,3),strides=(1,1),padding='same',activation='relu'))\n",
        "model_vgg.add(keras.layers.Conv2D(256,(3,3),strides=(1,1),padding='same',activation='relu'))\n",
        "model_vgg.add(keras.layers.Dropout(rate=dropout_ratio_Conv))\n",
        "model_vgg.add(keras.layers.MaxPooling2D(pool_size=(2,2)))\n",
        "\n",
        "model_vgg.add(keras.layers.Flatten())\n",
        "model_vgg.add(keras.layers.Dropout(rate=dropout_ratio_Dense))\n",
        "model_vgg.add(keras.layers.Dense(units=512, activation='relu'))\n",
        "model_vgg.add(keras.layers.Dropout(rate=dropout_ratio_Dense))\n",
        "model_vgg.add(keras.layers.Dense(units=128, activation='relu'))\n",
        "model_vgg.add(keras.layers.Dropout(rate=dropout_ratio_Dense))\n",
        "model_vgg.add(keras.layers.Dense(units=5, activation='softmax'))\n",
        "\n",
        "model_vgg.summary()\n",
        "model_vgg.compile(loss='categorical_crossentropy',\n",
        "              optimizer='sgd', metrics=['accuracy'])\n"
      ]
    },
    {
      "cell_type": "code",
      "execution_count": 162,
      "metadata": {
        "colab": {
          "base_uri": "https://localhost:8080/"
        },
        "id": "Z0XweSIFt2IA",
        "outputId": "2ad4fdfa-295d-44bd-d259-daff6803938f"
      },
      "outputs": [
        {
          "name": "stdout",
          "output_type": "stream",
          "text": [
            "Epoch 1/50\n",
            "23/23 [==============================] - 22s 927ms/step - loss: 1.5792 - accuracy: 0.4178 - val_loss: 1.5611 - val_accuracy: 0.4426\n",
            "Epoch 2/50\n",
            "23/23 [==============================] - 21s 912ms/step - loss: 1.5213 - accuracy: 0.4603 - val_loss: 1.5192 - val_accuracy: 0.4426\n",
            "Epoch 3/50\n",
            "23/23 [==============================] - 21s 920ms/step - loss: 1.4710 - accuracy: 0.4603 - val_loss: 1.4855 - val_accuracy: 0.4426\n",
            "Epoch 4/50\n",
            "23/23 [==============================] - 21s 917ms/step - loss: 1.4388 - accuracy: 0.4603 - val_loss: 1.4668 - val_accuracy: 0.4426\n",
            "Epoch 5/50\n",
            "23/23 [==============================] - 21s 907ms/step - loss: 1.4285 - accuracy: 0.4603 - val_loss: 1.4631 - val_accuracy: 0.4426\n",
            "Epoch 6/50\n",
            "23/23 [==============================] - 21s 911ms/step - loss: 1.4170 - accuracy: 0.4603 - val_loss: 1.4650 - val_accuracy: 0.4426\n",
            "Epoch 7/50\n",
            "23/23 [==============================] - 21s 908ms/step - loss: 1.4228 - accuracy: 0.4603 - val_loss: 1.4625 - val_accuracy: 0.4426\n",
            "Epoch 8/50\n",
            "23/23 [==============================] - 22s 972ms/step - loss: 1.4202 - accuracy: 0.4603 - val_loss: 1.4593 - val_accuracy: 0.4426\n",
            "Epoch 9/50\n",
            "23/23 [==============================] - 21s 913ms/step - loss: 1.4221 - accuracy: 0.4603 - val_loss: 1.4609 - val_accuracy: 0.4426\n",
            "Epoch 10/50\n",
            "23/23 [==============================] - 21s 905ms/step - loss: 1.4230 - accuracy: 0.4603 - val_loss: 1.4597 - val_accuracy: 0.4426\n",
            "Epoch 11/50\n",
            "23/23 [==============================] - 21s 910ms/step - loss: 1.4203 - accuracy: 0.4603 - val_loss: 1.4600 - val_accuracy: 0.4426\n",
            "Epoch 12/50\n",
            "23/23 [==============================] - 21s 917ms/step - loss: 1.4209 - accuracy: 0.4603 - val_loss: 1.4576 - val_accuracy: 0.4426\n",
            "Epoch 13/50\n",
            "23/23 [==============================] - 21s 915ms/step - loss: 1.4204 - accuracy: 0.4603 - val_loss: 1.4559 - val_accuracy: 0.4426\n",
            "Epoch 14/50\n",
            "23/23 [==============================] - 21s 916ms/step - loss: 1.4189 - accuracy: 0.4603 - val_loss: 1.4582 - val_accuracy: 0.4426\n",
            "Epoch 15/50\n",
            "23/23 [==============================] - 23s 982ms/step - loss: 1.4132 - accuracy: 0.4603 - val_loss: 1.4555 - val_accuracy: 0.4426\n",
            "Epoch 16/50\n",
            "23/23 [==============================] - 21s 923ms/step - loss: 1.4178 - accuracy: 0.4603 - val_loss: 1.4530 - val_accuracy: 0.4426\n",
            "Epoch 17/50\n",
            "23/23 [==============================] - 21s 927ms/step - loss: 1.4156 - accuracy: 0.4603 - val_loss: 1.4561 - val_accuracy: 0.4426\n",
            "Epoch 18/50\n",
            "23/23 [==============================] - 21s 915ms/step - loss: 1.4119 - accuracy: 0.4603 - val_loss: 1.4556 - val_accuracy: 0.4426\n",
            "Epoch 19/50\n",
            "23/23 [==============================] - 21s 913ms/step - loss: 1.4182 - accuracy: 0.4603 - val_loss: 1.4553 - val_accuracy: 0.4426\n",
            "Epoch 20/50\n",
            "23/23 [==============================] - 21s 913ms/step - loss: 1.4156 - accuracy: 0.4603 - val_loss: 1.4549 - val_accuracy: 0.4426\n",
            "Epoch 21/50\n",
            "23/23 [==============================] - 21s 910ms/step - loss: 1.4054 - accuracy: 0.4603 - val_loss: 1.4518 - val_accuracy: 0.4426\n",
            "Epoch 22/50\n",
            "23/23 [==============================] - 21s 913ms/step - loss: 1.4138 - accuracy: 0.4603 - val_loss: 1.4527 - val_accuracy: 0.4426\n",
            "Epoch 23/50\n",
            "23/23 [==============================] - 22s 976ms/step - loss: 1.4106 - accuracy: 0.4603 - val_loss: 1.4502 - val_accuracy: 0.4426\n",
            "Epoch 24/50\n",
            "23/23 [==============================] - 21s 902ms/step - loss: 1.4134 - accuracy: 0.4603 - val_loss: 1.4524 - val_accuracy: 0.4426\n",
            "Epoch 25/50\n",
            "23/23 [==============================] - 21s 907ms/step - loss: 1.3988 - accuracy: 0.4603 - val_loss: 1.4521 - val_accuracy: 0.4426\n",
            "Epoch 26/50\n",
            "23/23 [==============================] - 21s 908ms/step - loss: 1.4076 - accuracy: 0.4603 - val_loss: 1.4531 - val_accuracy: 0.4426\n",
            "Epoch 27/50\n",
            "23/23 [==============================] - 21s 902ms/step - loss: 1.4102 - accuracy: 0.4603 - val_loss: 1.4552 - val_accuracy: 0.4426\n",
            "Epoch 28/50\n",
            "23/23 [==============================] - 21s 904ms/step - loss: 1.4099 - accuracy: 0.4603 - val_loss: 1.4523 - val_accuracy: 0.4426\n",
            "Epoch 29/50\n",
            "23/23 [==============================] - 21s 901ms/step - loss: 1.4096 - accuracy: 0.4603 - val_loss: 1.4527 - val_accuracy: 0.4426\n",
            "Epoch 30/50\n",
            "23/23 [==============================] - 21s 907ms/step - loss: 1.4177 - accuracy: 0.4603 - val_loss: 1.4535 - val_accuracy: 0.4426\n",
            "Epoch 31/50\n",
            "23/23 [==============================] - 22s 968ms/step - loss: 1.4079 - accuracy: 0.4603 - val_loss: 1.4534 - val_accuracy: 0.4426\n",
            "Epoch 32/50\n",
            "23/23 [==============================] - 21s 913ms/step - loss: 1.4130 - accuracy: 0.4603 - val_loss: 1.4555 - val_accuracy: 0.4426\n",
            "Epoch 33/50\n",
            "23/23 [==============================] - 21s 908ms/step - loss: 1.4117 - accuracy: 0.4603 - val_loss: 1.4537 - val_accuracy: 0.4426\n",
            "Epoch 34/50\n",
            "23/23 [==============================] - 21s 911ms/step - loss: 1.4084 - accuracy: 0.4603 - val_loss: 1.4521 - val_accuracy: 0.4426\n",
            "Epoch 35/50\n",
            "23/23 [==============================] - 21s 902ms/step - loss: 1.4153 - accuracy: 0.4603 - val_loss: 1.4525 - val_accuracy: 0.4426\n",
            "Epoch 36/50\n",
            "23/23 [==============================] - 21s 899ms/step - loss: 1.4165 - accuracy: 0.4603 - val_loss: 1.4530 - val_accuracy: 0.4426\n",
            "Epoch 37/50\n",
            "23/23 [==============================] - 21s 906ms/step - loss: 1.4109 - accuracy: 0.4603 - val_loss: 1.4539 - val_accuracy: 0.4426\n",
            "Epoch 38/50\n",
            "23/23 [==============================] - 21s 912ms/step - loss: 1.4205 - accuracy: 0.4603 - val_loss: 1.4523 - val_accuracy: 0.4426\n",
            "Epoch 39/50\n",
            "23/23 [==============================] - 21s 912ms/step - loss: 1.4073 - accuracy: 0.4603 - val_loss: 1.4510 - val_accuracy: 0.4426\n",
            "Epoch 40/50\n",
            "23/23 [==============================] - 21s 915ms/step - loss: 1.4120 - accuracy: 0.4603 - val_loss: 1.4511 - val_accuracy: 0.4426\n",
            "Epoch 41/50\n",
            "23/23 [==============================] - 21s 905ms/step - loss: 1.4050 - accuracy: 0.4603 - val_loss: 1.4526 - val_accuracy: 0.4426\n",
            "Epoch 42/50\n",
            "23/23 [==============================] - 21s 906ms/step - loss: 1.4094 - accuracy: 0.4603 - val_loss: 1.4518 - val_accuracy: 0.4426\n",
            "Epoch 43/50\n",
            "23/23 [==============================] - 21s 903ms/step - loss: 1.4119 - accuracy: 0.4603 - val_loss: 1.4510 - val_accuracy: 0.4426\n",
            "Epoch 44/50\n",
            "23/23 [==============================] - 21s 910ms/step - loss: 1.4087 - accuracy: 0.4603 - val_loss: 1.4500 - val_accuracy: 0.4426\n",
            "Epoch 45/50\n",
            "23/23 [==============================] - 22s 977ms/step - loss: 1.4053 - accuracy: 0.4603 - val_loss: 1.4482 - val_accuracy: 0.4426\n",
            "Epoch 46/50\n",
            "23/23 [==============================] - 21s 912ms/step - loss: 1.4056 - accuracy: 0.4603 - val_loss: 1.4508 - val_accuracy: 0.4426\n",
            "Epoch 47/50\n",
            "23/23 [==============================] - 21s 913ms/step - loss: 1.4031 - accuracy: 0.4603 - val_loss: 1.4549 - val_accuracy: 0.4426\n",
            "Epoch 48/50\n",
            "23/23 [==============================] - 21s 911ms/step - loss: 1.4080 - accuracy: 0.4603 - val_loss: 1.4528 - val_accuracy: 0.4426\n",
            "Epoch 49/50\n",
            "23/23 [==============================] - 21s 913ms/step - loss: 1.4147 - accuracy: 0.4603 - val_loss: 1.4544 - val_accuracy: 0.4426\n",
            "Epoch 50/50\n",
            "23/23 [==============================] - 21s 920ms/step - loss: 1.3980 - accuracy: 0.4603 - val_loss: 1.4507 - val_accuracy: 0.4426\n"
          ]
        }
      ],
      "source": [
        "history_vgg = model_vgg.fit(dataset_arg.flow(trainx, trainy, batch_size=ba),\n",
        "                validation_data=(testx, testy), epochs=ep, verbose=1)"
      ]
    },
    {
      "cell_type": "code",
      "execution_count": 163,
      "metadata": {
        "colab": {
          "base_uri": "https://localhost:8080/",
          "height": 618
        },
        "id": "Akap6AZIXDLU",
        "outputId": "2e978806-f19f-437b-a436-c3aecf188b29"
      },
      "outputs": [
        {
          "data": {
            "image/png": "[encoded data removed]",
            "text/plain": [
              "<Figure size 432x288 with 1 Axes>"
            ]
          },
          "metadata": {
            "needs_background": "light"
          },
          "output_type": "display_data"
        },
        {
          "data": {
            "text/plain": [
              "<Figure size 432x288 with 0 Axes>"
            ]
          },
          "metadata": {},
          "output_type": "display_data"
        },
        {
          "data": {
            "image/png": "[encoded data removed]",
            "text/plain": [
              "<Figure size 432x288 with 1 Axes>"
            ]
          },
          "metadata": {
            "needs_background": "light"
          },
          "output_type": "display_data"
        },
        {
          "data": {
            "text/plain": [
              "<Figure size 432x288 with 0 Axes>"
            ]
          },
          "metadata": {},
          "output_type": "display_data"
        },
        {
          "name": "stdout",
          "output_type": "stream",
          "text": [
            "8/8 [==============================] - 1s 141ms/step\n",
            "VGG11 - Accuracy of test set: 0.4977973568281938\n"
          ]
        }
      ],
      "source": [
        "'''OWN CODE: start'''\n",
        "# VGG results\n",
        "\n",
        "# plot\n",
        "train_acc2 = history_vgg.history['accuracy']\n",
        "valid_acc2 = history_vgg.history['val_accuracy']\n",
        "train_loss2 = history_vgg.history['loss']\n",
        "valid_loss2 = history_vgg.history['val_loss']\n",
        "\n",
        "epoch_acc2 = range(len(train_acc2))\n",
        "plt.plot(epoch_acc2, train_acc2, 'orange', label='Accuracy of Training set')\n",
        "plt.plot(epoch_acc2, valid_acc2, 'blue', label='Accuracy of Validation set')\n",
        "plt.title('Training/validation accuracy')\n",
        "plt.legend()\n",
        "plt.figure()\n",
        "plt.show()\n",
        "\n",
        "epoch_loss2 = range(len(train_loss2))\n",
        "plt.plot(epoch_loss2, train_loss2, 'orange', label='Loss of Training set')\n",
        "plt.plot(epoch_loss2, valid_loss2, 'blue', label='Loss of Validation set')\n",
        "plt.title('Training/validation loss')\n",
        "plt.legend()\n",
        "plt.figure()\n",
        "plt.show()\n",
        "'''OWN CODE: end'''\n",
        "\n",
        "# test acc\n",
        "prediction2 = model_vgg.predict(test)\n",
        "pred_list2 = []\n",
        "for item in prediction2:\n",
        "    value = np.argmax(item)      \n",
        "    pred_list2 += [value]\n",
        "ans_list2 = test_label_list0\n",
        "accuracy = accuracy_score(ans_list2, pred_list2)\n",
        "print(\"VGG11 - Accuracy of test set:\", accuracy)\n",
        "\n"
      ]
    },
    {
      "cell_type": "markdown",
      "metadata": {
        "id": "cevGxZSyxQvj"
      },
      "source": [
        "# SUMMARY:\n",
        "CNN - Success! 91.63%.\n",
        "\n",
        "VGG11 - Failed! Training is like stuck, haven't found reason."
      ]
    }
  ],
  "metadata": {
    "colab": {
      "provenance": []
    },
    "kernelspec": {
      "display_name": "Python 3",
      "language": "python",
      "name": "python3"
    },
    "language_info": {
      "codemirror_mode": {
        "name": "ipython",
        "version": 3
      },
      "file_extension": ".py",
      "mimetype": "text/x-python",
      "name": "python",
      "nbconvert_exporter": "python",
      "pygments_lexer": "ipython3",
      "version": "3.9.7 (tags/v3.9.7:1016ef3, Aug 30 2021, 20:19:38) [MSC v.1929 64 bit (AMD64)]"
    },
    "orig_nbformat": 4,
    "vscode": {
      "interpreter": {
        "hash": "19eefbc407aa68756bae770c194384c6ab1551afe0862a1394c1038dfe153d80"
      }
    }
  },
  "nbformat": 4,
  "nbformat_minor": 0
}
